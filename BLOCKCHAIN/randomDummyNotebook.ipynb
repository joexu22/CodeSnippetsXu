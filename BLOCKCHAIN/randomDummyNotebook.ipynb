{
 "metadata": {
  "language_info": {
   "codemirror_mode": {
    "name": "ipython",
    "version": 3
   },
   "file_extension": ".py",
   "mimetype": "text/x-python",
   "name": "python",
   "nbconvert_exporter": "python",
   "pygments_lexer": "ipython3",
   "version": "3.8.5"
  },
  "orig_nbformat": 2,
  "kernelspec": {
   "name": "python385jvsc74a57bd0cec60195f8e5eda9a02263f7bafca4558fbc02993733de8c48a7824ece104a7a",
   "display_name": "Python 3.8.5 64-bit ('base': conda)"
  }
 },
 "nbformat": 4,
 "nbformat_minor": 2,
 "cells": [
  {
   "cell_type": "code",
   "execution_count": 6,
   "metadata": {},
   "outputs": [
    {
     "output_type": "stream",
     "name": "stdout",
     "text": [
      "Hello World\n"
     ]
    }
   ],
   "source": [
    "msg = \"Hello World\"\n",
    "print(msg)"
   ]
  },
  {
   "source": [
    "$\\hat{Y} $\n",
    "\n",
    "$\\hat{Y} = \\hat{\\beta}_{0} + \\sum \\limits _{j=1} ^{p} X_{j}\\hat{\\beta}_{j} $\n",
    "\n",
    "This problem can potentially be modeled using a Poisson process...\n",
    "\n",
    "e.g. if the block time is independent of each other and of time, the you can assume a Poisson process with a stable rate of, say $\\lambda$ per hour.\n",
    "The Poisson distribution tells you that the probability of no blocks being discovered in one hour is\n",
    "\n",
    "$P(X=0)=\\frac{\\lambda^0e^{-\\lambda}}{0!}=e^{-\\lambda}$\n",
    "\n",
    "If this probability is equal to .25 then you can deduce the rate $\\lambda$ as follows:\n",
    "\n",
    "$e^{-\\lambda} = 1/4 \\rightarrow \\lambda = -\\ln(1/4) = \\ln4 \\approx 1.32629$ song per hour.\n",
    "\n",
    "If one is interested in what happens over $x$ minutes, then the expected number of blocks will be $x\\ln4/60$ and the probablity of detecting (i.e, at least one song over $t$ minutes) will be\n",
    "\n",
    "$P(X\\geq1)=1-P(X=0) = 1 - \\frac{(t\\ln4/60)^0e^{-t(ln4)/60}}{0!} = e^{-t(ln4)/60}$\n",
    "\n",
    "For a 1-minutes interval, this is\n",
    "\n",
    "$1 - e^{-(\\ln4)/60} \\approx 0.02284$\n",
    "\n",
    "and for a 90-minute interval\n",
    "\n",
    "$1 - e^{-90(\\ln4)/60} \\approx 0.875$\n",
    "\n",
    "and for a 120-minute interval\n",
    "\n",
    "$1 - e^{-120(\\ln4)/60} \\approx 15/16 \\approx .9375$\n"
   ],
   "cell_type": "markdown",
   "metadata": {}
  }
 ]
}